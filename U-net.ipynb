{
 "metadata": {
  "language_info": {
   "codemirror_mode": {
    "name": "ipython",
    "version": 3
   },
   "file_extension": ".py",
   "mimetype": "text/x-python",
   "name": "python",
   "nbconvert_exporter": "python",
   "pygments_lexer": "ipython3",
   "version": "3.8.3"
  },
  "orig_nbformat": 4,
  "kernelspec": {
   "name": "python3",
   "display_name": "Python 3.8.3 64-bit ('base': conda)"
  },
  "interpreter": {
   "hash": "498cdea74d3331ee4660c3102ac8d2ad0b4bad9948a4fe9d378951ec0116e2dc"
  }
 },
 "nbformat": 4,
 "nbformat_minor": 2,
 "cells": [
  {
   "cell_type": "code",
   "execution_count": 9,
   "metadata": {},
   "outputs": [],
   "source": [
    "import torch\n",
    "from torch import nn"
   ]
  },
  {
   "source": [
    "## Réduire la taille et augmenter la dimension"
   ],
   "cell_type": "markdown",
   "metadata": {}
  },
  {
   "cell_type": "code",
   "execution_count": 10,
   "metadata": {},
   "outputs": [],
   "source": [
    "class Block(nn.Module):\n",
    "    def __init__(self, in_ch, out_ch):\n",
    "        super().__init__()\n",
    "        self.conv1 = nn.Conv2d(in_ch, out_ch, 3) # channel in_ch vers out_ch, kernel de taille 3\n",
    "        self.relu  = nn.ReLU() # fonction d'activation (améliorer la propagation du gradient)\n",
    "        self.conv2 = nn.Conv2d(out_ch, out_ch, 3)\n",
    "    \n",
    "    def forward(self, x):\n",
    "        return self.relu(self.conv2(self.relu(self.conv1(x))))"
   ]
  },
  {
   "cell_type": "code",
   "execution_count": 11,
   "metadata": {},
   "outputs": [
    {
     "output_type": "stream",
     "name": "stdout",
     "text": [
      "torch.Size([1, 64, 568, 568])\n"
     ]
    }
   ],
   "source": [
    "enc_block = Block(1, 64)\n",
    "x         = torch.randn(1, 1, 572, 572)\n",
    "enc_block(x).shape\n",
    "\n",
    "print(torch.Size([1, 64, 568, 568]))"
   ]
  },
  {
   "source": [
    "Opérations : \n",
    "- convolution => channel 1 vers 64, kernel de taille 3 réduit la taille de 2x2\n",
    "- ReLU => fonction d'activation\n",
    "- convolution => channel 64 vers 64, kervel de taille 3 réduit la taille de 2x2"
   ],
   "cell_type": "markdown",
   "metadata": {}
  },
  {
   "cell_type": "code",
   "execution_count": null,
   "metadata": {},
   "outputs": [],
   "source": []
  }
 ]
}